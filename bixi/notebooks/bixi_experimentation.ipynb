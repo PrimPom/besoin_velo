{
 "cells": [
  {
   "cell_type": "code",
   "execution_count": 1,
   "id": "f9477c9b-77ad-4ddf-8df0-e56ba83b7e6c",
   "metadata": {},
   "outputs": [
    {
     "name": "stdout",
     "output_type": "stream",
     "text": [
      "Collecting pandas\n",
      "  Using cached pandas-2.1.4-cp311-cp311-win_amd64.whl.metadata (18 kB)\n",
      "Collecting numpy<2,>=1.23.2 (from pandas)\n",
      "  Using cached numpy-1.26.2-cp311-cp311-win_amd64.whl.metadata (61 kB)\n",
      "Requirement already satisfied: python-dateutil>=2.8.2 in c:\\users\\primp\\anaconda3\\envs\\bixi\\lib\\site-packages (from pandas) (2.8.2)\n",
      "Requirement already satisfied: pytz>=2020.1 in c:\\users\\primp\\anaconda3\\envs\\bixi\\lib\\site-packages (from pandas) (2023.3.post1)\n",
      "Collecting tzdata>=2022.1 (from pandas)\n",
      "  Using cached tzdata-2023.3-py2.py3-none-any.whl (341 kB)\n",
      "Requirement already satisfied: six>=1.5 in c:\\users\\primp\\anaconda3\\envs\\bixi\\lib\\site-packages (from python-dateutil>=2.8.2->pandas) (1.16.0)\n",
      "Using cached pandas-2.1.4-cp311-cp311-win_amd64.whl (10.6 MB)\n",
      "Using cached numpy-1.26.2-cp311-cp311-win_amd64.whl (15.8 MB)\n",
      "Installing collected packages: tzdata, numpy, pandas\n",
      "Successfully installed numpy-1.26.2 pandas-2.1.4 tzdata-2023.3\n",
      "Collecting scikit-learn\n",
      "  Using cached scikit_learn-1.3.2-cp311-cp311-win_amd64.whl.metadata (11 kB)\n",
      "Requirement already satisfied: numpy<2.0,>=1.17.3 in c:\\users\\primp\\anaconda3\\envs\\bixi\\lib\\site-packages (from scikit-learn) (1.26.2)\n",
      "Collecting scipy>=1.5.0 (from scikit-learn)\n",
      "  Using cached scipy-1.11.4-cp311-cp311-win_amd64.whl.metadata (60 kB)\n",
      "Collecting joblib>=1.1.1 (from scikit-learn)\n",
      "  Using cached joblib-1.3.2-py3-none-any.whl.metadata (5.4 kB)\n",
      "Collecting threadpoolctl>=2.0.0 (from scikit-learn)\n",
      "  Using cached threadpoolctl-3.2.0-py3-none-any.whl.metadata (10.0 kB)\n",
      "Using cached scikit_learn-1.3.2-cp311-cp311-win_amd64.whl (9.2 MB)\n",
      "Using cached joblib-1.3.2-py3-none-any.whl (302 kB)\n",
      "Using cached scipy-1.11.4-cp311-cp311-win_amd64.whl (44.1 MB)\n",
      "Using cached threadpoolctl-3.2.0-py3-none-any.whl (15 kB)\n",
      "Installing collected packages: threadpoolctl, scipy, joblib, scikit-learn\n",
      "Successfully installed joblib-1.3.2 scikit-learn-1.3.2 scipy-1.11.4 threadpoolctl-3.2.0\n",
      "Collecting seaborn\n",
      "  Using cached seaborn-0.13.0-py3-none-any.whl.metadata (5.3 kB)\n",
      "Requirement already satisfied: numpy!=1.24.0,>=1.20 in c:\\users\\primp\\anaconda3\\envs\\bixi\\lib\\site-packages (from seaborn) (1.26.2)\n",
      "Requirement already satisfied: pandas>=1.2 in c:\\users\\primp\\anaconda3\\envs\\bixi\\lib\\site-packages (from seaborn) (2.1.4)\n",
      "Collecting matplotlib!=3.6.1,>=3.3 (from seaborn)\n",
      "  Downloading matplotlib-3.8.2-cp311-cp311-win_amd64.whl.metadata (5.9 kB)\n",
      "Collecting contourpy>=1.0.1 (from matplotlib!=3.6.1,>=3.3->seaborn)\n",
      "  Using cached contourpy-1.2.0-cp311-cp311-win_amd64.whl.metadata (5.8 kB)\n",
      "Collecting cycler>=0.10 (from matplotlib!=3.6.1,>=3.3->seaborn)\n",
      "  Using cached cycler-0.12.1-py3-none-any.whl.metadata (3.8 kB)\n",
      "Collecting fonttools>=4.22.0 (from matplotlib!=3.6.1,>=3.3->seaborn)\n",
      "  Downloading fonttools-4.47.0-cp311-cp311-win_amd64.whl.metadata (160 kB)\n",
      "     ---------------------------------------- 0.0/160.4 kB ? eta -:--:--\n",
      "     ---------------------------------------- 0.0/160.4 kB ? eta -:--:--\n",
      "     ------------------- ------------------- 81.9/160.4 kB 2.3 MB/s eta 0:00:01\n",
      "     -------------------------------------- 160.4/160.4 kB 2.4 MB/s eta 0:00:00\n",
      "Collecting kiwisolver>=1.3.1 (from matplotlib!=3.6.1,>=3.3->seaborn)\n",
      "  Using cached kiwisolver-1.4.5-cp311-cp311-win_amd64.whl.metadata (6.5 kB)\n",
      "Requirement already satisfied: packaging>=20.0 in c:\\users\\primp\\anaconda3\\envs\\bixi\\lib\\site-packages (from matplotlib!=3.6.1,>=3.3->seaborn) (23.1)\n",
      "Collecting pillow>=8 (from matplotlib!=3.6.1,>=3.3->seaborn)\n",
      "  Using cached Pillow-10.1.0-cp311-cp311-win_amd64.whl.metadata (9.6 kB)\n",
      "Collecting pyparsing>=2.3.1 (from matplotlib!=3.6.1,>=3.3->seaborn)\n",
      "  Using cached pyparsing-3.1.1-py3-none-any.whl.metadata (5.1 kB)\n",
      "Requirement already satisfied: python-dateutil>=2.7 in c:\\users\\primp\\anaconda3\\envs\\bixi\\lib\\site-packages (from matplotlib!=3.6.1,>=3.3->seaborn) (2.8.2)\n",
      "Requirement already satisfied: pytz>=2020.1 in c:\\users\\primp\\anaconda3\\envs\\bixi\\lib\\site-packages (from pandas>=1.2->seaborn) (2023.3.post1)\n",
      "Requirement already satisfied: tzdata>=2022.1 in c:\\users\\primp\\anaconda3\\envs\\bixi\\lib\\site-packages (from pandas>=1.2->seaborn) (2023.3)\n",
      "Requirement already satisfied: six>=1.5 in c:\\users\\primp\\anaconda3\\envs\\bixi\\lib\\site-packages (from python-dateutil>=2.7->matplotlib!=3.6.1,>=3.3->seaborn) (1.16.0)\n",
      "Using cached seaborn-0.13.0-py3-none-any.whl (294 kB)\n",
      "Downloading matplotlib-3.8.2-cp311-cp311-win_amd64.whl (7.6 MB)\n",
      "   ---------------------------------------- 0.0/7.6 MB ? eta -:--:--\n",
      "   ----- ---------------------------------- 1.0/7.6 MB 20.7 MB/s eta 0:00:01\n",
      "   ---------- ----------------------------- 1.9/7.6 MB 20.4 MB/s eta 0:00:01\n",
      "   ----------------- ---------------------- 3.3/7.6 MB 23.0 MB/s eta 0:00:01\n",
      "   ----------------------- ---------------- 4.5/7.6 MB 24.0 MB/s eta 0:00:01\n",
      "   ------------------------------ --------- 5.8/7.6 MB 24.8 MB/s eta 0:00:01\n",
      "   ------------------------------------- -- 7.2/7.6 MB 25.4 MB/s eta 0:00:01\n",
      "   ---------------------------------------- 7.6/7.6 MB 23.3 MB/s eta 0:00:00\n",
      "Using cached contourpy-1.2.0-cp311-cp311-win_amd64.whl (187 kB)\n",
      "Using cached cycler-0.12.1-py3-none-any.whl (8.3 kB)\n",
      "Downloading fonttools-4.47.0-cp311-cp311-win_amd64.whl (2.2 MB)\n",
      "   ---------------------------------------- 0.0/2.2 MB ? eta -:--:--\n",
      "   --------------- ------------------------ 0.9/2.2 MB 27.7 MB/s eta 0:00:01\n",
      "   ------------------------------------ --- 2.0/2.2 MB 21.0 MB/s eta 0:00:01\n",
      "   ---------------------------------------- 2.2/2.2 MB 17.4 MB/s eta 0:00:00\n",
      "Using cached kiwisolver-1.4.5-cp311-cp311-win_amd64.whl (56 kB)\n",
      "Using cached Pillow-10.1.0-cp311-cp311-win_amd64.whl (2.6 MB)\n",
      "Using cached pyparsing-3.1.1-py3-none-any.whl (103 kB)\n",
      "Installing collected packages: pyparsing, pillow, kiwisolver, fonttools, cycler, contourpy, matplotlib, seaborn\n",
      "Successfully installed contourpy-1.2.0 cycler-0.12.1 fonttools-4.47.0 kiwisolver-1.4.5 matplotlib-3.8.2 pillow-10.1.0 pyparsing-3.1.1 seaborn-0.13.0\n"
     ]
    }
   ],
   "source": [
    "\"\"\"INSTALLATION DE PANDAS ET DE SCIKIT LEARN\"\"\"\n",
    "!pip install pandas\n",
    "!pip install -U scikit-learn\n",
    "!pip install seaborn"
   ]
  },
  {
   "cell_type": "code",
   "execution_count": 3,
   "id": "796b42ca-aa43-491a-b79a-6bf2d4f92e48",
   "metadata": {},
   "outputs": [
    {
     "name": "stdout",
     "output_type": "stream",
     "text": [
      "Pandas version : 2.1.4\n",
      "Scikit-learn version : 1.3.2\n",
      "Seaborn version : 0.13.0\n"
     ]
    }
   ],
   "source": [
    "\"\"\"RECUPERER LES DIFFERENTES VERSION AFIN DE REPRODUIRE LES EXPERIENCES\"\"\"\n",
    "import pandas as pd\n",
    "import sklearn\n",
    "import seaborn as sn\n",
    "import matplotlib.pyplot as plt\n",
    "print(\"Pandas version : \" + str(pd.__version__))\n",
    "print(\"Scikit-learn version : \"+ str(sklearn.__version__))\n",
    "print(\"Seaborn version : \"+ str(sn.__version__))"
   ]
  },
  {
   "cell_type": "code",
   "execution_count": 4,
   "id": "f217631e-5c5e-4aa3-a43b-234ff02be748",
   "metadata": {},
   "outputs": [],
   "source": [
    "donnees_des_annees = [2014, 2015, 2016, 2017, 2018, 2019, 2020, 2021, 2022, 2023]"
   ]
  },
  {
   "cell_type": "code",
   "execution_count": null,
   "id": "4ea7fc1c-ed20-4353-835d-b17bc2f5e8e5",
   "metadata": {},
   "outputs": [],
   "source": []
  }
 ],
 "metadata": {
  "kernelspec": {
   "display_name": "Python 3 (ipykernel)",
   "language": "python",
   "name": "python3"
  },
  "language_info": {
   "codemirror_mode": {
    "name": "ipython",
    "version": 3
   },
   "file_extension": ".py",
   "mimetype": "text/x-python",
   "name": "python",
   "nbconvert_exporter": "python",
   "pygments_lexer": "ipython3",
   "version": "3.11.5"
  }
 },
 "nbformat": 4,
 "nbformat_minor": 5
}
