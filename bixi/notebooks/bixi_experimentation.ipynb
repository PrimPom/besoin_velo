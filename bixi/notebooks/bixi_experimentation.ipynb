{
 "cells": [
  {
   "cell_type": "code",
   "execution_count": null,
   "id": "09871faf-2090-4f06-9996-fd3aa6c77eae",
   "metadata": {},
   "outputs": [],
   "source": [
    "### Dans cet notebook, j'explorerai le dataset de bixi disponible en ligne afin des insights. \n",
    "\"\"\"\n",
    "Comme les données sont disponibles par mois et par années dans chaque dossier, je partirai du premier mois de données disponibles (en 2014) \n",
    "\n",
    "\"\"\""
   ]
  },
  {
   "cell_type": "code",
   "execution_count": 1,
   "id": "f9477c9b-77ad-4ddf-8df0-e56ba83b7e6c",
   "metadata": {},
   "outputs": [
    {
     "name": "stdout",
     "output_type": "stream",
     "text": [
      "Requirement already satisfied: pandas in c:\\users\\primp\\anaconda3\\envs\\bixi\\lib\\site-packages (2.1.4)\n",
      "Requirement already satisfied: numpy<2,>=1.23.2 in c:\\users\\primp\\anaconda3\\envs\\bixi\\lib\\site-packages (from pandas) (1.26.2)\n",
      "Requirement already satisfied: python-dateutil>=2.8.2 in c:\\users\\primp\\anaconda3\\envs\\bixi\\lib\\site-packages (from pandas) (2.8.2)\n",
      "Requirement already satisfied: pytz>=2020.1 in c:\\users\\primp\\anaconda3\\envs\\bixi\\lib\\site-packages (from pandas) (2023.3.post1)\n",
      "Requirement already satisfied: tzdata>=2022.1 in c:\\users\\primp\\anaconda3\\envs\\bixi\\lib\\site-packages (from pandas) (2023.3)\n",
      "Requirement already satisfied: six>=1.5 in c:\\users\\primp\\anaconda3\\envs\\bixi\\lib\\site-packages (from python-dateutil>=2.8.2->pandas) (1.16.0)\n",
      "Requirement already satisfied: scikit-learn in c:\\users\\primp\\anaconda3\\envs\\bixi\\lib\\site-packages (1.3.2)\n",
      "Requirement already satisfied: numpy<2.0,>=1.17.3 in c:\\users\\primp\\anaconda3\\envs\\bixi\\lib\\site-packages (from scikit-learn) (1.26.2)\n",
      "Requirement already satisfied: scipy>=1.5.0 in c:\\users\\primp\\anaconda3\\envs\\bixi\\lib\\site-packages (from scikit-learn) (1.11.4)\n",
      "Requirement already satisfied: joblib>=1.1.1 in c:\\users\\primp\\anaconda3\\envs\\bixi\\lib\\site-packages (from scikit-learn) (1.3.2)\n",
      "Requirement already satisfied: threadpoolctl>=2.0.0 in c:\\users\\primp\\anaconda3\\envs\\bixi\\lib\\site-packages (from scikit-learn) (3.2.0)\n",
      "Requirement already satisfied: seaborn in c:\\users\\primp\\anaconda3\\envs\\bixi\\lib\\site-packages (0.13.0)\n",
      "Requirement already satisfied: numpy!=1.24.0,>=1.20 in c:\\users\\primp\\anaconda3\\envs\\bixi\\lib\\site-packages (from seaborn) (1.26.2)\n",
      "Requirement already satisfied: pandas>=1.2 in c:\\users\\primp\\anaconda3\\envs\\bixi\\lib\\site-packages (from seaborn) (2.1.4)\n",
      "Requirement already satisfied: matplotlib!=3.6.1,>=3.3 in c:\\users\\primp\\anaconda3\\envs\\bixi\\lib\\site-packages (from seaborn) (3.8.2)\n",
      "Requirement already satisfied: contourpy>=1.0.1 in c:\\users\\primp\\anaconda3\\envs\\bixi\\lib\\site-packages (from matplotlib!=3.6.1,>=3.3->seaborn) (1.2.0)\n",
      "Requirement already satisfied: cycler>=0.10 in c:\\users\\primp\\anaconda3\\envs\\bixi\\lib\\site-packages (from matplotlib!=3.6.1,>=3.3->seaborn) (0.12.1)\n",
      "Requirement already satisfied: fonttools>=4.22.0 in c:\\users\\primp\\anaconda3\\envs\\bixi\\lib\\site-packages (from matplotlib!=3.6.1,>=3.3->seaborn) (4.47.0)\n",
      "Requirement already satisfied: kiwisolver>=1.3.1 in c:\\users\\primp\\anaconda3\\envs\\bixi\\lib\\site-packages (from matplotlib!=3.6.1,>=3.3->seaborn) (1.4.5)\n",
      "Requirement already satisfied: packaging>=20.0 in c:\\users\\primp\\anaconda3\\envs\\bixi\\lib\\site-packages (from matplotlib!=3.6.1,>=3.3->seaborn) (23.1)\n",
      "Requirement already satisfied: pillow>=8 in c:\\users\\primp\\anaconda3\\envs\\bixi\\lib\\site-packages (from matplotlib!=3.6.1,>=3.3->seaborn) (10.1.0)\n",
      "Requirement already satisfied: pyparsing>=2.3.1 in c:\\users\\primp\\anaconda3\\envs\\bixi\\lib\\site-packages (from matplotlib!=3.6.1,>=3.3->seaborn) (3.1.1)\n",
      "Requirement already satisfied: python-dateutil>=2.7 in c:\\users\\primp\\anaconda3\\envs\\bixi\\lib\\site-packages (from matplotlib!=3.6.1,>=3.3->seaborn) (2.8.2)\n",
      "Requirement already satisfied: pytz>=2020.1 in c:\\users\\primp\\anaconda3\\envs\\bixi\\lib\\site-packages (from pandas>=1.2->seaborn) (2023.3.post1)\n",
      "Requirement already satisfied: tzdata>=2022.1 in c:\\users\\primp\\anaconda3\\envs\\bixi\\lib\\site-packages (from pandas>=1.2->seaborn) (2023.3)\n",
      "Requirement already satisfied: six>=1.5 in c:\\users\\primp\\anaconda3\\envs\\bixi\\lib\\site-packages (from python-dateutil>=2.7->matplotlib!=3.6.1,>=3.3->seaborn) (1.16.0)\n"
     ]
    }
   ],
   "source": [
    "\"\"\"INSTALLATION DE PANDAS ET DE SCIKIT LEARN\"\"\"\n",
    "!pip install pandas\n",
    "!pip install -U scikit-learn\n",
    "!pip install seaborn"
   ]
  },
  {
   "cell_type": "code",
   "execution_count": 2,
   "id": "796b42ca-aa43-491a-b79a-6bf2d4f92e48",
   "metadata": {},
   "outputs": [
    {
     "name": "stdout",
     "output_type": "stream",
     "text": [
      "Pandas version : 2.1.4\n",
      "Scikit-learn version : 1.3.2\n",
      "Seaborn version : 0.13.0\n"
     ]
    }
   ],
   "source": [
    "\"\"\"RECUPERER LES DIFFERENTES VERSION AFIN DE REPRODUIRE LES EXPERIENCES\"\"\"\n",
    "import pandas as pd\n",
    "import sklearn\n",
    "import seaborn as sn\n",
    "import matplotlib.pyplot as plt\n",
    "print(\"Pandas version : \" + str(pd.__version__))\n",
    "print(\"Scikit-learn version : \"+ str(sklearn.__version__))\n",
    "print(\"Seaborn version : \"+ str(sn.__version__))"
   ]
  },
  {
   "cell_type": "code",
   "execution_count": 3,
   "id": "f217631e-5c5e-4aa3-a43b-234ff02be748",
   "metadata": {},
   "outputs": [],
   "source": [
    "donnees_des_annees = [2014, 2015, 2016, 2017, 2018, 2019, 2020, 2021, 2022, 2023]"
   ]
  },
  {
   "cell_type": "markdown",
   "id": "af554a0b-4a06-4e26-adf8-b682aea42447",
   "metadata": {},
   "source": [
    "### EXPLORATRATION "
   ]
  },
  {
   "cell_type": "markdown",
   "id": "78b80815-d9e5-42bf-95a3-43b168a58245",
   "metadata": {},
   "source": [
    "### Partie 1 : EDA des données de 04-2014"
   ]
  },
  {
   "cell_type": "code",
   "execution_count": 6,
   "id": "876e04c8-59c3-4a6a-9d7b-de8c7386f9eb",
   "metadata": {},
   "outputs": [],
   "source": [
    "# Chargement des données\n",
    "dataset_path_deb = 'OD_2014-04.csv'\n",
    "bixi_dataset_deb = pd.read_csv(dataset_path, sep=',')"
   ]
  },
  {
   "cell_type": "code",
   "execution_count": 7,
   "id": "cf1b47a2-7e90-4616-a433-ece3d4cfca36",
   "metadata": {},
   "outputs": [
    {
     "data": {
      "text/html": [
       "<div>\n",
       "<style scoped>\n",
       "    .dataframe tbody tr th:only-of-type {\n",
       "        vertical-align: middle;\n",
       "    }\n",
       "\n",
       "    .dataframe tbody tr th {\n",
       "        vertical-align: top;\n",
       "    }\n",
       "\n",
       "    .dataframe thead th {\n",
       "        text-align: right;\n",
       "    }\n",
       "</style>\n",
       "<table border=\"1\" class=\"dataframe\">\n",
       "  <thead>\n",
       "    <tr style=\"text-align: right;\">\n",
       "      <th></th>\n",
       "      <th>start_date</th>\n",
       "      <th>start_station_code</th>\n",
       "      <th>end_date</th>\n",
       "      <th>end_station_code</th>\n",
       "      <th>duration_sec</th>\n",
       "      <th>is_member</th>\n",
       "    </tr>\n",
       "  </thead>\n",
       "  <tbody>\n",
       "    <tr>\n",
       "      <th>0</th>\n",
       "      <td>2014-04-15 00:01</td>\n",
       "      <td>6209</td>\n",
       "      <td>2014-04-15 00:18</td>\n",
       "      <td>6436</td>\n",
       "      <td>1061</td>\n",
       "      <td>1</td>\n",
       "    </tr>\n",
       "    <tr>\n",
       "      <th>1</th>\n",
       "      <td>2014-04-15 00:01</td>\n",
       "      <td>6214</td>\n",
       "      <td>2014-04-15 00:11</td>\n",
       "      <td>6248</td>\n",
       "      <td>615</td>\n",
       "      <td>1</td>\n",
       "    </tr>\n",
       "    <tr>\n",
       "      <th>2</th>\n",
       "      <td>2014-04-15 00:01</td>\n",
       "      <td>6164</td>\n",
       "      <td>2014-04-15 00:18</td>\n",
       "      <td>6216</td>\n",
       "      <td>1031</td>\n",
       "      <td>1</td>\n",
       "    </tr>\n",
       "    <tr>\n",
       "      <th>3</th>\n",
       "      <td>2014-04-15 00:01</td>\n",
       "      <td>6214</td>\n",
       "      <td>2014-04-15 00:24</td>\n",
       "      <td>6082</td>\n",
       "      <td>1382</td>\n",
       "      <td>1</td>\n",
       "    </tr>\n",
       "    <tr>\n",
       "      <th>4</th>\n",
       "      <td>2014-04-15 00:02</td>\n",
       "      <td>6149</td>\n",
       "      <td>2014-04-15 00:08</td>\n",
       "      <td>6265</td>\n",
       "      <td>347</td>\n",
       "      <td>1</td>\n",
       "    </tr>\n",
       "    <tr>\n",
       "      <th>...</th>\n",
       "      <td>...</td>\n",
       "      <td>...</td>\n",
       "      <td>...</td>\n",
       "      <td>...</td>\n",
       "      <td>...</td>\n",
       "      <td>...</td>\n",
       "    </tr>\n",
       "    <tr>\n",
       "      <th>108259</th>\n",
       "      <td>2014-04-30 23:53</td>\n",
       "      <td>6204</td>\n",
       "      <td>2014-05-01 00:12</td>\n",
       "      <td>6418</td>\n",
       "      <td>1137</td>\n",
       "      <td>0</td>\n",
       "    </tr>\n",
       "    <tr>\n",
       "      <th>108260</th>\n",
       "      <td>2014-04-30 23:54</td>\n",
       "      <td>6223</td>\n",
       "      <td>2014-05-01 00:17</td>\n",
       "      <td>6423</td>\n",
       "      <td>1427</td>\n",
       "      <td>1</td>\n",
       "    </tr>\n",
       "    <tr>\n",
       "      <th>108261</th>\n",
       "      <td>2014-04-30 23:55</td>\n",
       "      <td>6215</td>\n",
       "      <td>2014-05-01 00:07</td>\n",
       "      <td>6908</td>\n",
       "      <td>698</td>\n",
       "      <td>1</td>\n",
       "    </tr>\n",
       "    <tr>\n",
       "      <th>108262</th>\n",
       "      <td>2014-04-30 23:58</td>\n",
       "      <td>6310</td>\n",
       "      <td>2014-05-01 00:12</td>\n",
       "      <td>6181</td>\n",
       "      <td>841</td>\n",
       "      <td>1</td>\n",
       "    </tr>\n",
       "    <tr>\n",
       "      <th>108263</th>\n",
       "      <td>2014-04-30 23:59</td>\n",
       "      <td>6179</td>\n",
       "      <td>2014-05-01 00:03</td>\n",
       "      <td>6175</td>\n",
       "      <td>230</td>\n",
       "      <td>1</td>\n",
       "    </tr>\n",
       "  </tbody>\n",
       "</table>\n",
       "<p>108264 rows × 6 columns</p>\n",
       "</div>"
      ],
      "text/plain": [
       "              start_date  start_station_code          end_date  \\\n",
       "0       2014-04-15 00:01                6209  2014-04-15 00:18   \n",
       "1       2014-04-15 00:01                6214  2014-04-15 00:11   \n",
       "2       2014-04-15 00:01                6164  2014-04-15 00:18   \n",
       "3       2014-04-15 00:01                6214  2014-04-15 00:24   \n",
       "4       2014-04-15 00:02                6149  2014-04-15 00:08   \n",
       "...                  ...                 ...               ...   \n",
       "108259  2014-04-30 23:53                6204  2014-05-01 00:12   \n",
       "108260  2014-04-30 23:54                6223  2014-05-01 00:17   \n",
       "108261  2014-04-30 23:55                6215  2014-05-01 00:07   \n",
       "108262  2014-04-30 23:58                6310  2014-05-01 00:12   \n",
       "108263  2014-04-30 23:59                6179  2014-05-01 00:03   \n",
       "\n",
       "        end_station_code  duration_sec  is_member  \n",
       "0                   6436          1061          1  \n",
       "1                   6248           615          1  \n",
       "2                   6216          1031          1  \n",
       "3                   6082          1382          1  \n",
       "4                   6265           347          1  \n",
       "...                  ...           ...        ...  \n",
       "108259              6418          1137          0  \n",
       "108260              6423          1427          1  \n",
       "108261              6908           698          1  \n",
       "108262              6181           841          1  \n",
       "108263              6175           230          1  \n",
       "\n",
       "[108264 rows x 6 columns]"
      ]
     },
     "execution_count": 7,
     "metadata": {},
     "output_type": "execute_result"
    }
   ],
   "source": [
    "# Affichage des données\n",
    "bixi_dataset_deb"
   ]
  },
  {
   "cell_type": "code",
   "execution_count": 8,
   "id": "d01f7b6b-f351-466c-8b82-5570bb7069a2",
   "metadata": {},
   "outputs": [
    {
     "name": "stdout",
     "output_type": "stream",
     "text": [
      "<class 'pandas.core.frame.DataFrame'>\n",
      "RangeIndex: 108264 entries, 0 to 108263\n",
      "Data columns (total 6 columns):\n",
      " #   Column              Non-Null Count   Dtype \n",
      "---  ------              --------------   ----- \n",
      " 0   start_date          108264 non-null  object\n",
      " 1   start_station_code  108264 non-null  int64 \n",
      " 2   end_date            108264 non-null  object\n",
      " 3   end_station_code    108264 non-null  int64 \n",
      " 4   duration_sec        108264 non-null  int64 \n",
      " 5   is_member           108264 non-null  int64 \n",
      "dtypes: int64(4), object(2)\n",
      "memory usage: 5.0+ MB\n"
     ]
    }
   ],
   "source": [
    "#Affichage des infos sur les données du 04-2014\n",
    "bixi_dataset_deb.info()"
   ]
  },
  {
   "cell_type": "code",
   "execution_count": 10,
   "id": "d6cdf7f5-8273-450c-828e-83d82c7876c5",
   "metadata": {},
   "outputs": [
    {
     "data": {
      "text/plain": [
       "count    108264.000000\n",
       "mean        725.507038\n",
       "std         602.135169\n",
       "min          61.000000\n",
       "25%         323.000000\n",
       "50%         560.000000\n",
       "75%         956.000000\n",
       "max        7180.000000\n",
       "Name: duration_sec, dtype: float64"
      ]
     },
     "execution_count": 10,
     "metadata": {},
     "output_type": "execute_result"
    }
   ],
   "source": [
    "#Regard sur la description du champ de la durée de location des vélos\n",
    "bixi_dataset_deb['duration_sec'].describe()"
   ]
  },
  {
   "cell_type": "code",
   "execution_count": 13,
   "id": "507c7708-4331-429f-b4e5-6bce89a26948",
   "metadata": {},
   "outputs": [
    {
     "data": {
      "text/plain": [
       "start_date            18189\n",
       "start_station_code      437\n",
       "end_date              18091\n",
       "end_station_code        439\n",
       "duration_sec           3489\n",
       "is_member                 2\n",
       "dtype: int64"
      ]
     },
     "execution_count": 13,
     "metadata": {},
     "output_type": "execute_result"
    }
   ],
   "source": [
    "# Décompte du nombre d'élements par colonnes (Regard sur les champs start_statio_code, end_station_code, is_member)\n",
    "bixi_dataset_deb.nunique()"
   ]
  },
  {
   "cell_type": "code",
   "execution_count": 16,
   "id": "c7e87b17-5bb3-486a-9095-e314b6f7d48b",
   "metadata": {},
   "outputs": [
    {
     "data": {
      "text/plain": [
       "is_member\n",
       "0    10125\n",
       "1    98139\n",
       "Name: is_member, dtype: int64"
      ]
     },
     "execution_count": 16,
     "metadata": {},
     "output_type": "execute_result"
    }
   ],
   "source": [
    "# Décompte des abonnées ou non\n",
    "bixi_dataset_deb.groupby(['is_member'])['is_member'].count()"
   ]
  },
  {
   "cell_type": "code",
   "execution_count": 22,
   "id": "1e44490b-6d36-4fca-b96b-7dc388fbf45f",
   "metadata": {},
   "outputs": [
    {
     "data": {
      "text/plain": [
       "start_station_code\n",
       "6184    1923\n",
       "6100    1309\n",
       "6064    1138\n",
       "6078    1126\n",
       "6179    1048\n",
       "6221    1020\n",
       "6214    1019\n",
       "6227    1002\n",
       "6154     998\n",
       "6186     976\n",
       "Name: count, dtype: int64"
      ]
     },
     "execution_count": 22,
     "metadata": {},
     "output_type": "execute_result"
    }
   ],
   "source": [
    "# Affichage des ids des 10 premières stations les plus prisées en début de location\n",
    "bixi_dataset_deb.start_station_code.value_counts().head(10)"
   ]
  },
  {
   "cell_type": "code",
   "execution_count": 23,
   "id": "91fe368d-5dfd-4412-a3b5-104530bae583",
   "metadata": {},
   "outputs": [
    {
     "data": {
      "text/plain": [
       "start_station_code\n",
       "6263    10\n",
       "6726    10\n",
       "5004     9\n",
       "6417     5\n",
       "6150     5\n",
       "6749     5\n",
       "6739     4\n",
       "6502     3\n",
       "6208     2\n",
       "6923     1\n",
       "Name: count, dtype: int64"
      ]
     },
     "execution_count": 23,
     "metadata": {},
     "output_type": "execute_result"
    }
   ],
   "source": [
    "# Affichage des ids des 10 stations les moins prisées en début de location\n",
    "bixi_dataset_deb.start_station_code.value_counts().tail(10)"
   ]
  },
  {
   "cell_type": "code",
   "execution_count": 24,
   "id": "0ed56739-6781-44de-9302-2c18129ac832",
   "metadata": {},
   "outputs": [
    {
     "data": {
      "text/plain": [
       "end_station_code\n",
       "6184    1915\n",
       "6078    1454\n",
       "6100    1345\n",
       "6015    1249\n",
       "6064    1217\n",
       "6012    1208\n",
       "6034    1057\n",
       "6179     981\n",
       "6227     941\n",
       "6154     901\n",
       "Name: count, dtype: int64"
      ]
     },
     "execution_count": 24,
     "metadata": {},
     "output_type": "execute_result"
    }
   ],
   "source": [
    "# Affichage des ids des 10 premières stations les plus prisées en fin de location\n",
    "bixi_dataset_deb.end_station_code.value_counts().head(10)"
   ]
  },
  {
   "cell_type": "code",
   "execution_count": 25,
   "id": "1df22c5e-684d-4da3-84fe-b53e51e62856",
   "metadata": {},
   "outputs": [
    {
     "data": {
      "text/plain": [
       "end_station_code\n",
       "6103    8\n",
       "5004    6\n",
       "5002    5\n",
       "6417    5\n",
       "6150    5\n",
       "6502    3\n",
       "6208    2\n",
       "5003    1\n",
       "6428    1\n",
       "6923    1\n",
       "Name: count, dtype: int64"
      ]
     },
     "execution_count": 25,
     "metadata": {},
     "output_type": "execute_result"
    }
   ],
   "source": [
    "# Affichage des ids des 10 premières stations les moins prisées en fin de location\n",
    "bixi_dataset_deb.end_station_code.value_counts().tail(10)"
   ]
  },
  {
   "cell_type": "code",
   "execution_count": 39,
   "id": "4288c362-542f-4bfc-847d-4b557b6b47d0",
   "metadata": {},
   "outputs": [],
   "source": [
    "### Partie  2: EDA des données de 2023 (Extraites en Octobre)"
   ]
  },
  {
   "cell_type": "code",
   "execution_count": 29,
   "id": "04481ae4-0acd-4354-8ce6-cca304acfe52",
   "metadata": {},
   "outputs": [],
   "source": [
    "dataset_path_2023 = 'DonneesOuvertes_2023_10.csv'\n",
    "bixi_dataset_2023 = pd.read_csv(dataset_path_2023, sep=',')"
   ]
  },
  {
   "cell_type": "code",
   "execution_count": 30,
   "id": "26493732-b4f8-4c2d-a7a0-6c56234451d9",
   "metadata": {},
   "outputs": [
    {
     "data": {
      "text/html": [
       "<div>\n",
       "<style scoped>\n",
       "    .dataframe tbody tr th:only-of-type {\n",
       "        vertical-align: middle;\n",
       "    }\n",
       "\n",
       "    .dataframe tbody tr th {\n",
       "        vertical-align: top;\n",
       "    }\n",
       "\n",
       "    .dataframe thead th {\n",
       "        text-align: right;\n",
       "    }\n",
       "</style>\n",
       "<table border=\"1\" class=\"dataframe\">\n",
       "  <thead>\n",
       "    <tr style=\"text-align: right;\">\n",
       "      <th></th>\n",
       "      <th>STARTSTATIONNAME</th>\n",
       "      <th>STARTSTATIONARRONDISSEMENT</th>\n",
       "      <th>STARTSTATIONLATITUDE</th>\n",
       "      <th>STARTSTATIONLONGITUDE</th>\n",
       "      <th>ENDSTATIONNAME</th>\n",
       "      <th>ENDSTATIONARRONDISSEMENT</th>\n",
       "      <th>ENDSTATIONLATITUDE</th>\n",
       "      <th>ENDSTATIONLONGITUDE</th>\n",
       "      <th>STARTTIMEMS</th>\n",
       "      <th>ENDTIMEMS</th>\n",
       "    </tr>\n",
       "  </thead>\n",
       "  <tbody>\n",
       "    <tr>\n",
       "      <th>0</th>\n",
       "      <td>Gauthier / de Lorimier</td>\n",
       "      <td>Le Plateau-Mont-Royal</td>\n",
       "      <td>45.531674</td>\n",
       "      <td>-73.565413</td>\n",
       "      <td>Métro Frontenac (Ontario / du Havre)</td>\n",
       "      <td>Ville-Marie</td>\n",
       "      <td>45.533706</td>\n",
       "      <td>-73.552179</td>\n",
       "      <td>1698248985976</td>\n",
       "      <td>1.698249e+12</td>\n",
       "    </tr>\n",
       "    <tr>\n",
       "      <th>1</th>\n",
       "      <td>Métro Papineau (Dorion / De Maisonneuve)</td>\n",
       "      <td>Ville-Marie</td>\n",
       "      <td>45.523845</td>\n",
       "      <td>-73.552366</td>\n",
       "      <td>Dorion / Ontario</td>\n",
       "      <td>Ville-Marie</td>\n",
       "      <td>45.526991</td>\n",
       "      <td>-73.558212</td>\n",
       "      <td>1698256985216</td>\n",
       "      <td>1.698258e+12</td>\n",
       "    </tr>\n",
       "    <tr>\n",
       "      <th>2</th>\n",
       "      <td>Bloomfield / Bernard</td>\n",
       "      <td>Outremont</td>\n",
       "      <td>45.520688</td>\n",
       "      <td>-73.608428</td>\n",
       "      <td>Jeanne-Mance / St-Viateur</td>\n",
       "      <td>Le Plateau-Mont-Royal</td>\n",
       "      <td>45.523027</td>\n",
       "      <td>-73.601840</td>\n",
       "      <td>1698259921562</td>\n",
       "      <td>1.698260e+12</td>\n",
       "    </tr>\n",
       "    <tr>\n",
       "      <th>3</th>\n",
       "      <td>Larivière / de Lorimier</td>\n",
       "      <td>Ville-Marie</td>\n",
       "      <td>45.529134</td>\n",
       "      <td>-73.559234</td>\n",
       "      <td>St-Hubert / de Maisonneuve (sud)</td>\n",
       "      <td>Ville-Marie</td>\n",
       "      <td>45.515868</td>\n",
       "      <td>-73.560084</td>\n",
       "      <td>1698258433474</td>\n",
       "      <td>1.698259e+12</td>\n",
       "    </tr>\n",
       "    <tr>\n",
       "      <th>4</th>\n",
       "      <td>de Maisonneuve / Mansfield (nord)</td>\n",
       "      <td>Ville-Marie</td>\n",
       "      <td>45.502311</td>\n",
       "      <td>-73.573363</td>\n",
       "      <td>Métro Villa-Maria (de Monkland / Décarie)</td>\n",
       "      <td>Côte-des-Neiges - Notre-Dame-de-Grâce</td>\n",
       "      <td>45.478968</td>\n",
       "      <td>-73.619599</td>\n",
       "      <td>1698261523775</td>\n",
       "      <td>1.698264e+12</td>\n",
       "    </tr>\n",
       "    <tr>\n",
       "      <th>...</th>\n",
       "      <td>...</td>\n",
       "      <td>...</td>\n",
       "      <td>...</td>\n",
       "      <td>...</td>\n",
       "      <td>...</td>\n",
       "      <td>...</td>\n",
       "      <td>...</td>\n",
       "      <td>...</td>\n",
       "      <td>...</td>\n",
       "      <td>...</td>\n",
       "    </tr>\n",
       "    <tr>\n",
       "      <th>11045586</th>\n",
       "      <td>Hutchison / Prince-Arthur</td>\n",
       "      <td>Le Plateau-Mont-Royal</td>\n",
       "      <td>45.509759</td>\n",
       "      <td>-73.576107</td>\n",
       "      <td>St-Dominique / Rachel</td>\n",
       "      <td>Le Plateau-Mont-Royal</td>\n",
       "      <td>45.518593</td>\n",
       "      <td>-73.581566</td>\n",
       "      <td>1683323034519</td>\n",
       "      <td>1.683323e+12</td>\n",
       "    </tr>\n",
       "    <tr>\n",
       "      <th>11045587</th>\n",
       "      <td>Parc de Bullion (de Bullion / Prince-Arthur)</td>\n",
       "      <td>Le Plateau-Mont-Royal</td>\n",
       "      <td>45.515604</td>\n",
       "      <td>-73.572135</td>\n",
       "      <td>Marquette / Gilford</td>\n",
       "      <td>Le Plateau-Mont-Royal</td>\n",
       "      <td>45.533851</td>\n",
       "      <td>-73.578912</td>\n",
       "      <td>1683323035871</td>\n",
       "      <td>1.683324e+12</td>\n",
       "    </tr>\n",
       "    <tr>\n",
       "      <th>11045588</th>\n",
       "      <td>Casgrain / St-Viateur</td>\n",
       "      <td>Le Plateau-Mont-Royal</td>\n",
       "      <td>45.527513</td>\n",
       "      <td>-73.598791</td>\n",
       "      <td>Casgrain / St-Viateur</td>\n",
       "      <td>Le Plateau-Mont-Royal</td>\n",
       "      <td>45.527513</td>\n",
       "      <td>-73.598791</td>\n",
       "      <td>1683323039341</td>\n",
       "      <td>1.683323e+12</td>\n",
       "    </tr>\n",
       "    <tr>\n",
       "      <th>11045589</th>\n",
       "      <td>Laval / Duluth</td>\n",
       "      <td>Le Plateau-Mont-Royal</td>\n",
       "      <td>45.519216</td>\n",
       "      <td>-73.577180</td>\n",
       "      <td>Vallières / St-Laurent</td>\n",
       "      <td>Le Plateau-Mont-Royal</td>\n",
       "      <td>45.518967</td>\n",
       "      <td>-73.583616</td>\n",
       "      <td>1683323038619</td>\n",
       "      <td>1.683323e+12</td>\n",
       "    </tr>\n",
       "    <tr>\n",
       "      <th>11045590</th>\n",
       "      <td>Duluth / de l'Esplanade</td>\n",
       "      <td>Le Plateau-Mont-Royal</td>\n",
       "      <td>45.515092</td>\n",
       "      <td>-73.581142</td>\n",
       "      <td>Beaudry / Sherbrooke</td>\n",
       "      <td>Ville-Marie</td>\n",
       "      <td>45.523035</td>\n",
       "      <td>-73.565395</td>\n",
       "      <td>1683323037241</td>\n",
       "      <td>1.683325e+12</td>\n",
       "    </tr>\n",
       "  </tbody>\n",
       "</table>\n",
       "<p>11045591 rows × 10 columns</p>\n",
       "</div>"
      ],
      "text/plain": [
       "                                      STARTSTATIONNAME  \\\n",
       "0                               Gauthier / de Lorimier   \n",
       "1             Métro Papineau (Dorion / De Maisonneuve)   \n",
       "2                                 Bloomfield / Bernard   \n",
       "3                              Larivière / de Lorimier   \n",
       "4                    de Maisonneuve / Mansfield (nord)   \n",
       "...                                                ...   \n",
       "11045586                     Hutchison / Prince-Arthur   \n",
       "11045587  Parc de Bullion (de Bullion / Prince-Arthur)   \n",
       "11045588                         Casgrain / St-Viateur   \n",
       "11045589                                Laval / Duluth   \n",
       "11045590                       Duluth / de l'Esplanade   \n",
       "\n",
       "         STARTSTATIONARRONDISSEMENT  STARTSTATIONLATITUDE  \\\n",
       "0             Le Plateau-Mont-Royal             45.531674   \n",
       "1                       Ville-Marie             45.523845   \n",
       "2                         Outremont             45.520688   \n",
       "3                       Ville-Marie             45.529134   \n",
       "4                       Ville-Marie             45.502311   \n",
       "...                             ...                   ...   \n",
       "11045586      Le Plateau-Mont-Royal             45.509759   \n",
       "11045587      Le Plateau-Mont-Royal             45.515604   \n",
       "11045588      Le Plateau-Mont-Royal             45.527513   \n",
       "11045589      Le Plateau-Mont-Royal             45.519216   \n",
       "11045590      Le Plateau-Mont-Royal             45.515092   \n",
       "\n",
       "          STARTSTATIONLONGITUDE                             ENDSTATIONNAME  \\\n",
       "0                    -73.565413       Métro Frontenac (Ontario / du Havre)   \n",
       "1                    -73.552366                           Dorion / Ontario   \n",
       "2                    -73.608428                  Jeanne-Mance / St-Viateur   \n",
       "3                    -73.559234           St-Hubert / de Maisonneuve (sud)   \n",
       "4                    -73.573363  Métro Villa-Maria (de Monkland / Décarie)   \n",
       "...                         ...                                        ...   \n",
       "11045586             -73.576107                      St-Dominique / Rachel   \n",
       "11045587             -73.572135                        Marquette / Gilford   \n",
       "11045588             -73.598791                      Casgrain / St-Viateur   \n",
       "11045589             -73.577180                     Vallières / St-Laurent   \n",
       "11045590             -73.581142                       Beaudry / Sherbrooke   \n",
       "\n",
       "                       ENDSTATIONARRONDISSEMENT  ENDSTATIONLATITUDE  \\\n",
       "0                                   Ville-Marie           45.533706   \n",
       "1                                   Ville-Marie           45.526991   \n",
       "2                         Le Plateau-Mont-Royal           45.523027   \n",
       "3                                   Ville-Marie           45.515868   \n",
       "4         Côte-des-Neiges - Notre-Dame-de-Grâce           45.478968   \n",
       "...                                         ...                 ...   \n",
       "11045586                  Le Plateau-Mont-Royal           45.518593   \n",
       "11045587                  Le Plateau-Mont-Royal           45.533851   \n",
       "11045588                  Le Plateau-Mont-Royal           45.527513   \n",
       "11045589                  Le Plateau-Mont-Royal           45.518967   \n",
       "11045590                            Ville-Marie           45.523035   \n",
       "\n",
       "          ENDSTATIONLONGITUDE    STARTTIMEMS     ENDTIMEMS  \n",
       "0                  -73.552179  1698248985976  1.698249e+12  \n",
       "1                  -73.558212  1698256985216  1.698258e+12  \n",
       "2                  -73.601840  1698259921562  1.698260e+12  \n",
       "3                  -73.560084  1698258433474  1.698259e+12  \n",
       "4                  -73.619599  1698261523775  1.698264e+12  \n",
       "...                       ...            ...           ...  \n",
       "11045586           -73.581566  1683323034519  1.683323e+12  \n",
       "11045587           -73.578912  1683323035871  1.683324e+12  \n",
       "11045588           -73.598791  1683323039341  1.683323e+12  \n",
       "11045589           -73.583616  1683323038619  1.683323e+12  \n",
       "11045590           -73.565395  1683323037241  1.683325e+12  \n",
       "\n",
       "[11045591 rows x 10 columns]"
      ]
     },
     "execution_count": 30,
     "metadata": {},
     "output_type": "execute_result"
    }
   ],
   "source": [
    "# Affichage des données\n",
    "bixi_dataset_2023"
   ]
  },
  {
   "cell_type": "code",
   "execution_count": 31,
   "id": "96e3e347-1a1d-4c4d-9be5-d5b689adebd0",
   "metadata": {},
   "outputs": [
    {
     "name": "stdout",
     "output_type": "stream",
     "text": [
      "<class 'pandas.core.frame.DataFrame'>\n",
      "RangeIndex: 11045591 entries, 0 to 11045590\n",
      "Data columns (total 10 columns):\n",
      " #   Column                      Dtype  \n",
      "---  ------                      -----  \n",
      " 0   STARTSTATIONNAME            object \n",
      " 1   STARTSTATIONARRONDISSEMENT  object \n",
      " 2   STARTSTATIONLATITUDE        float64\n",
      " 3   STARTSTATIONLONGITUDE       float64\n",
      " 4   ENDSTATIONNAME              object \n",
      " 5   ENDSTATIONARRONDISSEMENT    object \n",
      " 6   ENDSTATIONLATITUDE          float64\n",
      " 7   ENDSTATIONLONGITUDE         float64\n",
      " 8   STARTTIMEMS                 int64  \n",
      " 9   ENDTIMEMS                   float64\n",
      "dtypes: float64(5), int64(1), object(4)\n",
      "memory usage: 842.7+ MB\n"
     ]
    }
   ],
   "source": [
    "bixi_dataset_2023.info()"
   ]
  },
  {
   "cell_type": "code",
   "execution_count": 33,
   "id": "30a04a71-f76c-403f-a957-dde2d1a1ac63",
   "metadata": {},
   "outputs": [
    {
     "data": {
      "text/plain": [
       "STARTSTATIONNAME                   934\n",
       "STARTSTATIONARRONDISSEMENT          25\n",
       "STARTSTATIONLATITUDE               914\n",
       "STARTSTATIONLONGITUDE              911\n",
       "ENDSTATIONNAME                     935\n",
       "ENDSTATIONARRONDISSEMENT            25\n",
       "ENDSTATIONLATITUDE                 915\n",
       "ENDSTATIONLONGITUDE                912\n",
       "STARTTIMEMS                   11040112\n",
       "ENDTIMEMS                     10983000\n",
       "dtype: int64"
      ]
     },
     "execution_count": 33,
     "metadata": {},
     "output_type": "execute_result"
    }
   ],
   "source": [
    "bixi_dataset_2023.nunique()"
   ]
  },
  {
   "cell_type": "code",
   "execution_count": 34,
   "id": "891aca11-9d69-46cf-8ae3-7496ebcde41b",
   "metadata": {},
   "outputs": [
    {
     "data": {
      "text/plain": [
       "STARTSTATIONNAME\n",
       "Marquette / du Mont-Royal                  70578\n",
       "du Mont-Royal / Clark                      69495\n",
       "Métro Atwater (Atwater / Ste-Catherine)    63763\n",
       "des Pins / St-Laurent                      61939\n",
       "Boyer / du Mont-Royal                      61826\n",
       "Milton / University                        55635\n",
       "Mackay / de Maisonneuve                    53263\n",
       "de la Commune / Place Jacques-Cartier      51742\n",
       "McTavish / Sherbrooke                      51697\n",
       "St-Dominique / Rachel                      49398\n",
       "Name: count, dtype: int64"
      ]
     },
     "execution_count": 34,
     "metadata": {},
     "output_type": "execute_result"
    }
   ],
   "source": [
    "# Affichage des 10 premières stations les plus prisées en début de location\n",
    "bixi_dataset_2023.STARTSTATIONNAME.value_counts().head(10)"
   ]
  },
  {
   "cell_type": "code",
   "execution_count": 37,
   "id": "f5882fa5-8853-4705-95fd-47c585dc830d",
   "metadata": {},
   "outputs": [
    {
     "data": {
      "text/plain": [
       "ENDSTATIONARRONDISSEMENT\n",
       "Le Plateau-Mont-Royal                         3318729\n",
       "Ville-Marie                                   3060287\n",
       "Rosemont - La Petite-Patrie                   1293919\n",
       "Le Sud-Ouest                                   852223\n",
       "Villeray - Saint-Michel - Parc-Extension       531824\n",
       "Mercier - Hochelaga-Maisonneuve                511184\n",
       "Côte-des-Neiges - Notre-Dame-de-Grâce          415016\n",
       "Verdun                                         298930\n",
       "Outremont                                      170217\n",
       "Ahuntsic-Cartierville                          167988\n",
       "Westmount                                       91919\n",
       "LaSalle                                         48761\n",
       "Saint-Laurent                                   44909\n",
       "Lachine                                         35983\n",
       "Mont-Royal                                      32429\n",
       "Laval                                           28031\n",
       "Saint-Léonard                                   26359\n",
       "Longueuil                                       17205\n",
       "Montréal-Nord                                   13868\n",
       "Anjou                                           12941\n",
       "Rivière-des-Prairies - Pointe-aux-Trembles       5839\n",
       "Boucherville                                     2245\n",
       "Montréal-Est                                     1568\n",
       "Terrebonne                                       1040\n",
       "Le Vieux-Longueuil                                 80\n",
       "Name: count, dtype: int64"
      ]
     },
     "execution_count": 37,
     "metadata": {},
     "output_type": "execute_result"
    }
   ],
   "source": [
    "# Classement des arrondissements en début de location\n",
    "bixi_dataset_2023.ENDSTATIONARRONDISSEMENT.value_counts()"
   ]
  },
  {
   "cell_type": "code",
   "execution_count": 36,
   "id": "99cc7479-4004-422c-876b-a374787fe865",
   "metadata": {},
   "outputs": [
    {
     "data": {
      "text/plain": [
       "STARTSTATIONNAME\n",
       "Bishop / de Maisonneuve S/E                              80\n",
       "Industriel / Louis-J.-Lafortune                          78\n",
       "de Châteauguay / St-Charles                              71\n",
       "Métro Angrignon (de Monts / des Trinitaires)             20\n",
       "St-Timothé / Robin                                       16\n",
       "Ottawa / Séminaire                                       16\n",
       "Saint-Sylvestre / Labonté                                 7\n",
       "Gilford / Drolet                                          6\n",
       "Jardin Botanique (Sherbrooke / Pie-IX)                    1\n",
       "Parc Père-Marquette ( de Bellechasse / de Lanaudière)     1\n",
       "Name: count, dtype: int64"
      ]
     },
     "execution_count": 36,
     "metadata": {},
     "output_type": "execute_result"
    }
   ],
   "source": [
    "# Affichage des 10 stations les moins prisées en fin de location\n",
    "bixi_dataset_2023.STARTSTATIONNAME.value_counts().tail(10)"
   ]
  },
  {
   "cell_type": "code",
   "execution_count": 38,
   "id": "ebb2890b-3aa6-40b7-bfc0-57f79388c699",
   "metadata": {},
   "outputs": [
    {
     "data": {
      "text/plain": [
       "STARTSTATIONARRONDISSEMENT\n",
       "Le Plateau-Mont-Royal                         3721977\n",
       "Ville-Marie                                   2758450\n",
       "Rosemont - La Petite-Patrie                   1393624\n",
       "Le Sud-Ouest                                   735784\n",
       "Villeray - Saint-Michel - Parc-Extension       549105\n",
       "Mercier - Hochelaga-Maisonneuve                456173\n",
       "Côte-des-Neiges - Notre-Dame-de-Grâce          452867\n",
       "Verdun                                         276815\n",
       "Outremont                                      183066\n",
       "Ahuntsic-Cartierville                          159693\n",
       "Westmount                                       94955\n",
       "LaSalle                                         47070\n",
       "Saint-Laurent                                   43912\n",
       "Lachine                                         34330\n",
       "Mont-Royal                                      30430\n",
       "Laval                                           28084\n",
       "Saint-Léonard                                   25238\n",
       "Longueuil                                       16206\n",
       "Montréal-Nord                                   12997\n",
       "Anjou                                           12388\n",
       "Rivière-des-Prairies - Pointe-aux-Trembles       5344\n",
       "Boucherville                                     2236\n",
       "Montréal-Est                                     1329\n",
       "Terrebonne                                       1034\n",
       "Le Vieux-Longueuil                                 71\n",
       "Name: count, dtype: int64"
      ]
     },
     "execution_count": 38,
     "metadata": {},
     "output_type": "execute_result"
    }
   ],
   "source": [
    "# Classement des arrondissements en fin de location\n",
    "bixi_dataset_2023.STARTSTATIONARRONDISSEMENT.value_counts()"
   ]
  },
  {
   "cell_type": "code",
   "execution_count": null,
   "id": "d75604c6-51b4-4c22-8a50-c24f7081024f",
   "metadata": {},
   "outputs": [],
   "source": [
    "!pip install sweetviz"
   ]
  },
  {
   "cell_type": "code",
   "execution_count": 14,
   "id": "c8dd99e6-42a7-4b94-807f-3b2b866f0904",
   "metadata": {},
   "outputs": [
    {
     "name": "stderr",
     "output_type": "stream",
     "text": [
      "Done! Use 'show' commands to display/save.   |██████████| [100%]   00:00 -> (00:00 left)\n"
     ]
    },
    {
     "name": "stdout",
     "output_type": "stream",
     "text": [
      "Report SWEETVIZ_REPORT.html was generated! NOTEBOOK/COLAB USERS: the web browser MAY not pop up, regardless, the report IS saved in your notebook/colab files.\n"
     ]
    }
   ],
   "source": [
    "import sweetviz as sv\n",
    "\n",
    "my_report = sv.analyze(bixi_dataset[['start_station_code','end_station_code','duration_sec','is_member']])\n",
    "my_report.show_html()"
   ]
  },
  {
   "cell_type": "code",
   "execution_count": null,
   "id": "e9500750-c378-4a5f-9d51-c7ce56081d36",
   "metadata": {},
   "outputs": [],
   "source": [
    "#Utilisation de LUX pour L'EDA\n",
    "!pip install lux-api"
   ]
  },
  {
   "cell_type": "code",
   "execution_count": 21,
   "id": "d370b774-a526-4af9-ad30-7bc035a91e98",
   "metadata": {},
   "outputs": [],
   "source": [
    "import lux\n",
    "import pandas as pd\n",
    "bix_dataset = pd.read_csv(dataset_path)"
   ]
  }
 ],
 "metadata": {
  "kernelspec": {
   "display_name": "Python 3 (ipykernel)",
   "language": "python",
   "name": "python3"
  },
  "language_info": {
   "codemirror_mode": {
    "name": "ipython",
    "version": 3
   },
   "file_extension": ".py",
   "mimetype": "text/x-python",
   "name": "python",
   "nbconvert_exporter": "python",
   "pygments_lexer": "ipython3",
   "version": "3.11.5"
  }
 },
 "nbformat": 4,
 "nbformat_minor": 5
}
